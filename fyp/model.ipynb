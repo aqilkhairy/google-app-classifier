{
 "cells": [
  {
   "attachments": {},
   "cell_type": "markdown",
   "metadata": {},
   "source": [
    "Library Imports"
   ]
  },
  {
   "cell_type": "code",
   "execution_count": 1,
   "metadata": {},
   "outputs": [],
   "source": [
    "import pandas as pd\n",
    "from sklearn.model_selection import train_test_split\n",
    "from sklearn.feature_extraction.text import TfidfVectorizer\n",
    "from sklearn.tree import DecisionTreeClassifier"
   ]
  },
  {
   "attachments": {},
   "cell_type": "markdown",
   "metadata": {},
   "source": [
    "Load datasets dan gabung"
   ]
  },
  {
   "cell_type": "code",
   "execution_count": 2,
   "metadata": {},
   "outputs": [],
   "source": [
    "#gabung datasets daripada kaggle guna column 'appId' = 'app_Id'\n",
    "apps_df = pd.read_csv('Apps.csv')\n",
    "reviews_df = pd.read_csv('Reviews.csv')\n",
    "merged_df = pd.merge(apps_df, reviews_df, left_on='appId', right_on='app_Id')"
   ]
  },
  {
   "attachments": {},
   "cell_type": "markdown",
   "metadata": {},
   "source": [
    "Data preprocessing <hr>\n",
    "Info Variables: <br>\n",
    "X: Content review <br>\n",
    "Y: Score review"
   ]
  },
  {
   "cell_type": "code",
   "execution_count": 3,
   "metadata": {},
   "outputs": [],
   "source": [
    "#data preprocessing:\n",
    "merged_df.drop_duplicates(subset=['content'], inplace=True) #buang duplicates dlm dataset\n",
    "merged_df.dropna(subset=['content'], inplace=True) #buang 'Not Available' (NA) dlm dataset\n",
    "X = merged_df['content'] #extract content reviews\n",
    "y = merged_df['score_y'] #extract score reviews\n",
    "\n",
    "#transform content data jadi numerical guna TfidVectorizer (subject to change)\n",
    "tfidf_vectorizer = TfidfVectorizer()\n",
    "X_tfidf = tfidf_vectorizer.fit_transform(X)"
   ]
  },
  {
   "attachments": {},
   "cell_type": "markdown",
   "metadata": {},
   "source": [
    "Split datasets untuk training & testing (80:20)"
   ]
  },
  {
   "cell_type": "code",
   "execution_count": 4,
   "metadata": {},
   "outputs": [],
   "source": [
    "# split data 80% train, 20% testing\n",
    "X_train, X_test, y_train, y_test = train_test_split(X_tfidf, y, test_size=0.2)"
   ]
  },
  {
   "attachments": {},
   "cell_type": "markdown",
   "metadata": {},
   "source": [
    "Decision Tree Algorithm"
   ]
  },
  {
   "cell_type": "code",
   "execution_count": 5,
   "metadata": {},
   "outputs": [],
   "source": [
    "# define Decision Tree Algorithm\n",
    "decisionTree = DecisionTreeClassifier(\n",
    "    # criterion: Literal['gini', 'entropy', 'log_loss'] = \"gini\",\n",
    "    # splitter: Literal['best', 'random'] = \"best\",\n",
    "    # max_depth: Int | None = None,\n",
    "    # min_samples_split: float | int = 2,\n",
    "    # min_samples_leaf: float | int = 1,\n",
    "    # min_weight_fraction_leaf: Float = 0,\n",
    "    # max_features: float | int | Literal['auto', 'sqrt', 'log2'] | None = None,\n",
    "    # random_state: Int | RandomState | None = None,\n",
    "    # max_leaf_nodes: Int | None = None,\n",
    "    # min_impurity_decrease: Float = 0,\n",
    "    # class_weight: Mapping | str | Sequence[Mapping] | None = None,\n",
    "    # ccp_alpha: float = 0\n",
    ")\n"
   ]
  },
  {
   "attachments": {},
   "cell_type": "markdown",
   "metadata": {},
   "source": [
    "\n",
    "TODO (26/3):\n",
    " - tambah lagi preprocessing\n",
    " - cari parameter sesuai untuk DecisionTree / buat algo step sendiri (?) \n"
   ]
  }
 ],
 "metadata": {
  "kernelspec": {
   "display_name": "Python 3",
   "language": "python",
   "name": "python3"
  },
  "language_info": {
   "codemirror_mode": {
    "name": "ipython",
    "version": 3
   },
   "file_extension": ".py",
   "mimetype": "text/x-python",
   "name": "python",
   "nbconvert_exporter": "python",
   "pygments_lexer": "ipython3",
   "version": "3.11.2"
  },
  "orig_nbformat": 4,
  "vscode": {
   "interpreter": {
    "hash": "e1ae7672e6aebabab73014c2bd743854dd04fe7451e4e03180509a948c52199c"
   }
  }
 },
 "nbformat": 4,
 "nbformat_minor": 2
}
