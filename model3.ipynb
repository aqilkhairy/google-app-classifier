{
 "cells": [
  {
   "cell_type": "code",
   "execution_count": null,
   "metadata": {},
   "outputs": [],
   "source": [
    "import pandas as pd\n",
    "from sklearn.model_selection import train_test_split\n",
    "from sklearn.feature_extraction.text import TfidfVectorizer"
   ]
  },
  {
   "cell_type": "code",
   "execution_count": null,
   "metadata": {},
   "outputs": [],
   "source": [
    "#gabung datasets daripada kaggle guna column 'appId' = 'app_Id'\n",
    "apps_df = pd.read_csv('Apps.csv')\n",
    "reviews_df = pd.read_csv('Reviews.csv')\n",
    "merged_df = pd.merge(apps_df, reviews_df, left_on='appId', right_on='app_Id')"
   ]
  },
  {
   "cell_type": "code",
   "execution_count": null,
   "metadata": {},
   "outputs": [],
   "source": [
    "#data preprocessing:\n",
    "merged_df.drop_duplicates(subset=['content'], inplace=True) #buang duplicates dlm dataset\n",
    "merged_df.dropna(subset=['content'], inplace=True) #buang 'Not Available' (NA) dlm dataset\n",
    "X = merged_df['content'] #extract content reviews\n",
    "y = merged_df['score_y'] #extract score reviews\n",
    "\n",
    "#transform content data jadi numerical guna TfidVectorizer\n",
    "tfidf_vectorizer = TfidfVectorizer()\n",
    "X_tfidf = tfidf_vectorizer.fit_transform(X)"
   ]
  },
  {
   "cell_type": "code",
   "execution_count": null,
   "metadata": {},
   "outputs": [],
   "source": [
    "# split data 80% train, 20% testing\n",
    "X_train, X_test, y_train, y_test = train_test_split(X_tfidf, y, test_size=0.2, random_state=42)"
   ]
  },
  {
   "attachments": {},
   "cell_type": "markdown",
   "metadata": {},
   "source": [
    "# TODO (26/3):\n",
    "# - tambah lagi preprocessing\n",
    "# - cari parameter sesuai untuk DecisionTree"
   ]
  }
 ],
 "metadata": {
  "language_info": {
   "name": "python"
  },
  "orig_nbformat": 4
 },
 "nbformat": 4,
 "nbformat_minor": 2
}
